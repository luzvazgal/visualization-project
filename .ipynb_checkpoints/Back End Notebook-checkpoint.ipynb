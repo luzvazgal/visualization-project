{
 "cells": [
  {
   "cell_type": "code",
   "execution_count": 1,
   "metadata": {},
   "outputs": [],
   "source": [
    "import pandas as pd\n",
    "import numpy as np\n",
    "from bs4 import BeautifulSoup as bs\n",
    "import requests\n",
    "from splinter import Browser\n",
    "import pandas as pd\n",
    "import json\n",
    "import pymongo\n",
    "from pymongo import MongoClient\n",
    "from webdriver_manager.chrome import ChromeDriverManager"
   ]
  },
  {
   "cell_type": "markdown",
   "metadata": {},
   "source": [
    "<h2>COUNTRY DATA EXTRACTION AND PREPARATION<h2>"
   ]
  },
  {
   "cell_type": "code",
   "execution_count": 2,
   "metadata": {},
   "outputs": [],
   "source": [
    "australia = pd.read_excel (r'./oecd_data/australia.xlsx')\n",
    "australia.drop(australia.columns[0], axis=1, inplace=True)\n",
    "australia.columns.values[0] = \"Domestic, inbound and outbound tourism\"\n",
    "australia.columns.values[1] = \"2014\"\n",
    "australia.columns.values[2] = \"2015\"\n",
    "australia.columns.values[3] = \"2016\"\n",
    "australia.columns.values[4] = \"2017\"\n",
    "australia.columns.values[5] = \"2018\"\n",
    "australia.drop(australia.index[0:7], inplace = True)"
   ]
  },
  {
   "cell_type": "code",
   "execution_count": null,
   "metadata": {},
   "outputs": [],
   "source": []
  },
  {
   "cell_type": "code",
   "execution_count": 3,
   "metadata": {},
   "outputs": [],
   "source": [
    "austria = pd.read_excel (r'./oecd_data/austria.xlsx')\n",
    "austria.drop(austria.columns[0], axis=1, inplace=True)\n",
    "austria.columns.values[0] = \"Domestic, inbound and outbound tourism\"\n",
    "austria.columns.values[1] = \"2014\"\n",
    "austria.columns.values[2] = \"2015\"\n",
    "austria.columns.values[3] = \"2016\"\n",
    "austria.columns.values[4] = \"2017\"\n",
    "austria.columns.values[5] = \"2018\"\n",
    "austria.drop(austria.index[0:7], inplace = True)"
   ]
  },
  {
   "cell_type": "code",
   "execution_count": null,
   "metadata": {},
   "outputs": [],
   "source": []
  },
  {
   "cell_type": "code",
   "execution_count": 4,
   "metadata": {},
   "outputs": [],
   "source": [
    "colombia = pd.read_excel (r'./oecd_data/colombia.xlsx')\n",
    "colombia.drop(colombia.columns[0], axis=1, inplace=True)\n",
    "colombia.columns.values[0] = \"Domestic, inbound and outbound tourism\"\n",
    "colombia.columns.values[1] = \"2014\"\n",
    "colombia.columns.values[2] = \"2015\"\n",
    "colombia.columns.values[3] = \"2016\"\n",
    "colombia.columns.values[4] = \"2017\"\n",
    "colombia.columns.values[5] = \"2018\"\n",
    "colombia.drop(colombia.index[0:7], inplace = True)"
   ]
  },
  {
   "cell_type": "code",
   "execution_count": null,
   "metadata": {},
   "outputs": [],
   "source": []
  },
  {
   "cell_type": "code",
   "execution_count": 5,
   "metadata": {},
   "outputs": [],
   "source": [
    "costa_rica = pd.read_excel (r'./oecd_data/costa_rica.xlsx')\n",
    "costa_rica.drop(costa_rica.columns[0], axis=1, inplace=True)\n",
    "costa_rica.columns.values[0] = \"Domestic, inbound and outbound tourism\"\n",
    "costa_rica.columns.values[1] = \"2014\"\n",
    "costa_rica.columns.values[2] = \"2015\"\n",
    "costa_rica.columns.values[3] = \"2016\"\n",
    "costa_rica.columns.values[4] = \"2017\"\n",
    "costa_rica.columns.values[5] = \"2018\"\n",
    "costa_rica.drop(costa_rica.index[0:7], inplace = True)"
   ]
  },
  {
   "cell_type": "code",
   "execution_count": null,
   "metadata": {},
   "outputs": [],
   "source": []
  },
  {
   "cell_type": "code",
   "execution_count": 6,
   "metadata": {},
   "outputs": [],
   "source": [
    "croatia = pd.read_excel (r'./oecd_data/croatia.xlsx')\n",
    "croatia.drop(croatia.columns[0], axis=1, inplace=True)\n",
    "croatia.columns.values[0] = \"Domestic, inbound and outbound tourism\"\n",
    "croatia.columns.values[1] = \"2014\"\n",
    "croatia.columns.values[2] = \"2015\"\n",
    "croatia.columns.values[3] = \"2016\"\n",
    "croatia.columns.values[4] = \"2017\"\n",
    "croatia.columns.values[5] = \"2018\"\n",
    "croatia.drop(croatia.index[0:7], inplace = True)"
   ]
  },
  {
   "cell_type": "code",
   "execution_count": null,
   "metadata": {},
   "outputs": [],
   "source": []
  },
  {
   "cell_type": "code",
   "execution_count": 7,
   "metadata": {},
   "outputs": [],
   "source": [
    "estonia = pd.read_excel (r'./oecd_data/estonia.xlsx')\n",
    "estonia.drop(estonia.columns[0], axis=1, inplace=True)\n",
    "estonia.columns.values[0] = \"Domestic, inbound and outbound tourism\"\n",
    "estonia.columns.values[1] = \"2014\"\n",
    "estonia.columns.values[2] = \"2015\"\n",
    "estonia.columns.values[3] = \"2016\"\n",
    "estonia.columns.values[4] = \"2017\"\n",
    "estonia.columns.values[5] = \"2018\"\n",
    "estonia.drop(estonia.index[0:7], inplace = True)"
   ]
  },
  {
   "cell_type": "code",
   "execution_count": null,
   "metadata": {},
   "outputs": [],
   "source": []
  },
  {
   "cell_type": "code",
   "execution_count": 8,
   "metadata": {},
   "outputs": [],
   "source": [
    "finland = pd.read_excel (r'./oecd_data/finland.xlsx')\n",
    "finland.drop(finland.columns[0], axis=1, inplace=True)\n",
    "finland.columns.values[0] = \"Domestic, inbound and outbound tourism\"\n",
    "finland.columns.values[1] = \"2014\"\n",
    "finland.columns.values[2] = \"2015\"\n",
    "finland.columns.values[3] = \"2016\"\n",
    "finland.columns.values[4] = \"2017\"\n",
    "finland.columns.values[5] = \"2018\"\n",
    "finland.drop(finland.index[0:7], inplace = True)"
   ]
  },
  {
   "cell_type": "code",
   "execution_count": null,
   "metadata": {},
   "outputs": [],
   "source": []
  },
  {
   "cell_type": "code",
   "execution_count": 9,
   "metadata": {},
   "outputs": [],
   "source": [
    "france = pd.read_excel (r'./oecd_data/france.xlsx')\n",
    "france.drop(france.columns[0], axis=1, inplace=True)\n",
    "france.columns.values[0] = \"Domestic, inbound and outbound tourism\"\n",
    "france.columns.values[1] = \"2014\"\n",
    "france.columns.values[2] = \"2015\"\n",
    "france.columns.values[3] = \"2016\"\n",
    "france.columns.values[4] = \"2017\"\n",
    "france.columns.values[5] = \"2018\"\n",
    "france.drop(france.index[0:7], inplace = True)"
   ]
  },
  {
   "cell_type": "code",
   "execution_count": null,
   "metadata": {},
   "outputs": [],
   "source": []
  },
  {
   "cell_type": "code",
   "execution_count": 10,
   "metadata": {},
   "outputs": [],
   "source": [
    "germany = pd.read_excel (r'./oecd_data/germany.xlsx')\n",
    "germany.drop(germany.columns[0], axis=1, inplace=True)\n",
    "germany.columns.values[0] = \"Domestic, inbound and outbound tourism\"\n",
    "germany.columns.values[1] = \"2014\"\n",
    "germany.columns.values[2] = \"2015\"\n",
    "germany.columns.values[3] = \"2016\"\n",
    "germany.columns.values[4] = \"2017\"\n",
    "germany.columns.values[5] = \"2018\"\n",
    "germany.drop(germany.index[0:7], inplace = True)"
   ]
  },
  {
   "cell_type": "code",
   "execution_count": null,
   "metadata": {},
   "outputs": [],
   "source": []
  },
  {
   "cell_type": "code",
   "execution_count": 12,
   "metadata": {},
   "outputs": [],
   "source": [
    "greece = pd.read_excel (r'./oecd_data/greece.xlsx')\n",
    "greece.drop(greece.columns[0], axis=1, inplace=True)\n",
    "greece.columns.values[0] = \"Domestic, inbound and outbound tourism\"\n",
    "greece.columns.values[1] = \"2014\"\n",
    "greece.columns.values[2] = \"2015\"\n",
    "greece.columns.values[3] = \"2016\"\n",
    "greece.columns.values[4] = \"2017\"\n",
    "greece.columns.values[5] = \"2018\"\n",
    "greece.drop(greece.index[0:7], inplace = True)"
   ]
  },
  {
   "cell_type": "code",
   "execution_count": 13,
   "metadata": {},
   "outputs": [],
   "source": [
    "hungary = pd.read_excel (r'./oecd_data/hungary.xlsx')\n",
    "hungary.drop(hungary.columns[0], axis=1, inplace=True)\n",
    "hungary.columns.values[0] = \"Domestic, inbound and outbound tourism\"\n",
    "hungary.columns.values[1] = \"2014\"\n",
    "hungary.columns.values[2] = \"2015\"\n",
    "hungary.columns.values[3] = \"2016\"\n",
    "hungary.columns.values[4] = \"2017\"\n",
    "hungary.columns.values[5] = \"2018\"\n",
    "hungary.drop(hungary.index[0:7], inplace = True)"
   ]
  },
  {
   "cell_type": "code",
   "execution_count": 14,
   "metadata": {},
   "outputs": [],
   "source": [
    "italy = pd.read_excel (r'./oecd_data/italy.xlsx')\n",
    "italy.drop(italy.columns[0], axis=1, inplace=True)\n",
    "italy.columns.values[0] = \"Domestic, inbound and outbound tourism\"\n",
    "italy.columns.values[1] = \"2014\"\n",
    "italy.columns.values[2] = \"2015\"\n",
    "italy.columns.values[3] = \"2016\"\n",
    "italy.columns.values[4] = \"2017\"\n",
    "italy.columns.values[5] = \"2018\"\n",
    "italy.drop(italy.index[0:7], inplace = True)"
   ]
  },
  {
   "cell_type": "code",
   "execution_count": 15,
   "metadata": {},
   "outputs": [],
   "source": [
    "latvia = pd.read_excel (r'./oecd_data/latvia.xlsx')\n",
    "latvia.drop(latvia.columns[0], axis=1, inplace=True)\n",
    "latvia.columns.values[0] = \"Domestic, inbound and outbound tourism\"\n",
    "latvia.columns.values[1] = \"2014\"\n",
    "latvia.columns.values[2] = \"2015\"\n",
    "latvia.columns.values[3] = \"2016\"\n",
    "latvia.columns.values[4] = \"2017\"\n",
    "latvia.columns.values[5] = \"2018\"\n",
    "latvia.drop(latvia.index[0:7], inplace = True)"
   ]
  },
  {
   "cell_type": "code",
   "execution_count": 16,
   "metadata": {},
   "outputs": [],
   "source": [
    "lithuania = pd.read_excel (r'./oecd_data/lithuania.xlsx')\n",
    "lithuania.drop(lithuania.columns[0], axis=1, inplace=True)\n",
    "lithuania.columns.values[0] = \"Domestic, inbound and outbound tourism\"\n",
    "lithuania.columns.values[1] = \"2014\"\n",
    "lithuania.columns.values[2] = \"2015\"\n",
    "lithuania.columns.values[3] = \"2016\"\n",
    "lithuania.columns.values[4] = \"2017\"\n",
    "lithuania.columns.values[5] = \"2018\"\n",
    "lithuania.drop(lithuania.index[0:7], inplace = True)"
   ]
  },
  {
   "cell_type": "code",
   "execution_count": 17,
   "metadata": {},
   "outputs": [],
   "source": [
    "malta = pd.read_excel (r'./oecd_data/malta.xlsx')\n",
    "malta.drop(malta.columns[0], axis=1, inplace=True)\n",
    "malta.columns.values[0] = \"Domestic, inbound and outbound tourism\"\n",
    "malta.columns.values[1] = \"2014\"\n",
    "malta.columns.values[2] = \"2015\"\n",
    "malta.columns.values[3] = \"2016\"\n",
    "malta.columns.values[4] = \"2017\"\n",
    "malta.columns.values[5] = \"2018\"\n",
    "malta.drop(malta.index[0:7], inplace = True)"
   ]
  },
  {
   "cell_type": "code",
   "execution_count": 18,
   "metadata": {},
   "outputs": [],
   "source": [
    "netherlands = pd.read_excel (r'./oecd_data/netherlands.xlsx')\n",
    "netherlands.drop(netherlands.columns[0], axis=1, inplace=True)\n",
    "netherlands.columns.values[0] = \"Domestic, inbound and outbound tourism\"\n",
    "netherlands.columns.values[1] = \"2014\"\n",
    "netherlands.columns.values[2] = \"2015\"\n",
    "netherlands.columns.values[3] = \"2016\"\n",
    "netherlands.columns.values[4] = \"2017\"\n",
    "netherlands.columns.values[5] = \"2018\"\n",
    "netherlands.drop(netherlands.index[0:7], inplace = True)"
   ]
  },
  {
   "cell_type": "code",
   "execution_count": 19,
   "metadata": {},
   "outputs": [],
   "source": [
    "new_zealand = pd.read_excel (r'./oecd_data/new_zealand.xlsx')\n",
    "new_zealand.drop(new_zealand.columns[0], axis=1, inplace=True)\n",
    "new_zealand.columns.values[0] = \"Domestic, inbound and outbound tourism\"\n",
    "new_zealand.columns.values[1] = \"2014\"\n",
    "new_zealand.columns.values[2] = \"2015\"\n",
    "new_zealand.columns.values[3] = \"2016\"\n",
    "new_zealand.columns.values[4] = \"2017\"\n",
    "new_zealand.columns.values[5] = \"2018\"\n",
    "new_zealand.drop(new_zealand.index[0:7], inplace = True)"
   ]
  },
  {
   "cell_type": "code",
   "execution_count": 20,
   "metadata": {},
   "outputs": [],
   "source": [
    "norway = pd.read_excel (r'./oecd_data/norway.xlsx')\n",
    "norway.drop(norway.columns[0], axis=1, inplace=True)\n",
    "norway.columns.values[0] = \"Domestic, inbound and outbound tourism\"\n",
    "norway.columns.values[1] = \"2014\"\n",
    "norway.columns.values[2] = \"2015\"\n",
    "norway.columns.values[3] = \"2016\"\n",
    "norway.columns.values[4] = \"2017\"\n",
    "norway.columns.values[5] = \"2018\"\n",
    "norway.drop(norway.index[0:7], inplace = True)"
   ]
  },
  {
   "cell_type": "code",
   "execution_count": 21,
   "metadata": {},
   "outputs": [],
   "source": [
    "peru = pd.read_excel (r'./oecd_data/peru.xlsx')\n",
    "peru.drop(peru.columns[0], axis=1, inplace=True)\n",
    "peru.columns.values[0] = \"Domestic, inbound and outbound tourism\"\n",
    "peru.columns.values[1] = \"2014\"\n",
    "peru.columns.values[2] = \"2015\"\n",
    "peru.columns.values[3] = \"2016\"\n",
    "peru.columns.values[4] = \"2017\"\n",
    "peru.columns.values[5] = \"2018\"\n",
    "peru.drop(peru.index[0:7], inplace = True)"
   ]
  },
  {
   "cell_type": "code",
   "execution_count": 22,
   "metadata": {},
   "outputs": [],
   "source": [
    "poland = pd.read_excel (r'./oecd_data/poland.xlsx')\n",
    "poland.drop(poland.columns[0], axis=1, inplace=True)\n",
    "poland.columns.values[0] = \"Domestic, inbound and outbound tourism\"\n",
    "poland.columns.values[1] = \"2014\"\n",
    "poland.columns.values[2] = \"2015\"\n",
    "poland.columns.values[3] = \"2016\"\n",
    "poland.columns.values[4] = \"2017\"\n",
    "poland.columns.values[5] = \"2018\"\n",
    "poland.drop(poland.index[0:7], inplace = True)"
   ]
  },
  {
   "cell_type": "code",
   "execution_count": 23,
   "metadata": {},
   "outputs": [],
   "source": [
    "romania = pd.read_excel (r'./oecd_data/romania.xlsx')\n",
    "romania.drop(romania.columns[0], axis=1, inplace=True)\n",
    "romania.columns.values[0] = \"Domestic, inbound and outbound tourism\"\n",
    "romania.columns.values[1] = \"2014\"\n",
    "romania.columns.values[2] = \"2015\"\n",
    "romania.columns.values[3] = \"2016\"\n",
    "romania.columns.values[4] = \"2017\"\n",
    "romania.columns.values[5] = \"2018\"\n",
    "romania.drop(romania.index[0:7], inplace = True)"
   ]
  },
  {
   "cell_type": "code",
   "execution_count": 24,
   "metadata": {},
   "outputs": [],
   "source": [
    "russia = pd.read_excel (r'./oecd_data/russia.xlsx')\n",
    "russia.drop(russia.columns[0], axis=1, inplace=True)\n",
    "russia.columns.values[0] = \"Domestic, inbound and outbound tourism\"\n",
    "russia.columns.values[1] = \"2014\"\n",
    "russia.columns.values[2] = \"2015\"\n",
    "russia.columns.values[3] = \"2016\"\n",
    "russia.columns.values[4] = \"2017\"\n",
    "russia.columns.values[5] = \"2018\"\n",
    "russia.drop(russia.index[0:7], inplace = True)"
   ]
  },
  {
   "cell_type": "code",
   "execution_count": 25,
   "metadata": {},
   "outputs": [],
   "source": [
    "slovenia = pd.read_excel (r'./oecd_data/slovenia.xlsx')\n",
    "slovenia.drop(slovenia.columns[0], axis=1, inplace=True)\n",
    "slovenia.columns.values[0] = \"Domestic, inbound and outbound tourism\"\n",
    "slovenia.columns.values[1] = \"2014\"\n",
    "slovenia.columns.values[2] = \"2015\"\n",
    "slovenia.columns.values[3] = \"2016\"\n",
    "slovenia.columns.values[4] = \"2017\"\n",
    "slovenia.columns.values[5] = \"2018\"\n",
    "slovenia.drop(slovenia.index[0:7], inplace = True)"
   ]
  },
  {
   "cell_type": "code",
   "execution_count": 26,
   "metadata": {},
   "outputs": [],
   "source": [
    "spain = pd.read_excel (r'./oecd_data/spain.xlsx')\n",
    "spain.drop(spain.columns[0], axis=1, inplace=True)\n",
    "spain.columns.values[0] = \"Domestic, inbound and outbound tourism\"\n",
    "spain.columns.values[1] = \"2014\"\n",
    "spain.columns.values[2] = \"2015\"\n",
    "spain.columns.values[3] = \"2016\"\n",
    "spain.columns.values[4] = \"2017\"\n",
    "spain.columns.values[5] = \"2018\"\n",
    "spain.drop(spain.index[0:7], inplace = True)"
   ]
  },
  {
   "cell_type": "code",
   "execution_count": 27,
   "metadata": {},
   "outputs": [],
   "source": [
    "switzerland = pd.read_excel (r'./oecd_data/switzerland.xlsx')\n",
    "switzerland.drop(switzerland.columns[0], axis=1, inplace=True)\n",
    "switzerland.columns.values[0] = \"Domestic, inbound and outbound tourism\"\n",
    "switzerland.columns.values[1] = \"2014\"\n",
    "switzerland.columns.values[2] = \"2015\"\n",
    "switzerland.columns.values[3] = \"2016\"\n",
    "switzerland.columns.values[4] = \"2017\"\n",
    "switzerland.columns.values[5] = \"2018\"\n",
    "switzerland.drop(switzerland.index[0:7], inplace = True)"
   ]
  },
  {
   "cell_type": "code",
   "execution_count": 28,
   "metadata": {},
   "outputs": [],
   "source": [
    "turkey = pd.read_excel (r'./oecd_data/turkey.xlsx')\n",
    "turkey.drop(turkey.columns[0], axis=1, inplace=True)\n",
    "turkey.columns.values[0] = \"Domestic, inbound and outbound tourism\"\n",
    "turkey.columns.values[1] = \"2014\"\n",
    "turkey.columns.values[2] = \"2015\"\n",
    "turkey.columns.values[3] = \"2016\"\n",
    "turkey.columns.values[4] = \"2017\"\n",
    "turkey.columns.values[5] = \"2018\"\n",
    "turkey.drop(turkey.index[0:7], inplace = True)"
   ]
  },
  {
   "cell_type": "code",
   "execution_count": 29,
   "metadata": {},
   "outputs": [],
   "source": [
    "united_states = pd.read_excel (r'./oecd_data/united_states.xlsx')\n",
    "united_states.drop(united_states.columns[0], axis=1, inplace=True)\n",
    "united_states.columns.values[0] = \"Domestic, inbound and outbound tourism\"\n",
    "united_states.columns.values[1] = \"2014\"\n",
    "united_states.columns.values[2] = \"2015\"\n",
    "united_states.columns.values[3] = \"2016\"\n",
    "united_states.columns.values[4] = \"2017\"\n",
    "united_states.columns.values[5] = \"2018\"\n",
    "united_states.drop(united_states.index[0:7], inplace = True)"
   ]
  },
  {
   "cell_type": "code",
   "execution_count": 30,
   "metadata": {},
   "outputs": [],
   "source": [
    "def number_list(list_i):\n",
    "    var_def=list_i\n",
    "    var_def=np.nan_to_num(var_def).tolist()\n",
    "    \n",
    "    for i in range(len(var_def)):\n",
    "        element=var_def[i]\n",
    "        try:\n",
    "            new_element=float(element)\n",
    "        except:\n",
    "            if isinstance(element, int):\n",
    "                new_element=float(element)\n",
    "            elif isinstance(element, str):\n",
    "                new_element=0\n",
    "        \n",
    "        var_def[i]\n",
    "    \n",
    "    var_def=[float(x) for x in var_def ]\n",
    "    var_def=np.nan_to_num(var_def).tolist()\n",
    "        \n",
    "    return var_def"
   ]
  },
  {
   "cell_type": "code",
   "execution_count": 32,
   "metadata": {},
   "outputs": [],
   "source": [
    "australia= australia.drop([7,8,11,12,19,20,21,22,25,26,33,34,35,36,37,38,39,40,41,42,43])"
   ]
  },
  {
   "cell_type": "code",
   "execution_count": 34,
   "metadata": {},
   "outputs": [],
   "source": [
    "australia= australia.set_index('Domestic, inbound and outbound tourism')"
   ]
  },
  {
   "cell_type": "code",
   "execution_count": 37,
   "metadata": {},
   "outputs": [],
   "source": [
    "austria= austria.drop([7,8,11,12,19,20,21,22,25,26,33,34,35,36,37,38,39,40,41,42,43])"
   ]
  },
  {
   "cell_type": "code",
   "execution_count": 38,
   "metadata": {},
   "outputs": [],
   "source": [
    "austria= austria.set_index('Domestic, inbound and outbound tourism')"
   ]
  },
  {
   "cell_type": "code",
   "execution_count": null,
   "metadata": {},
   "outputs": [],
   "source": []
  },
  {
   "cell_type": "code",
   "execution_count": 52,
   "metadata": {},
   "outputs": [],
   "source": []
  },
  {
   "cell_type": "code",
   "execution_count": null,
   "metadata": {},
   "outputs": [],
   "source": []
  },
  {
   "cell_type": "code",
   "execution_count": null,
   "metadata": {},
   "outputs": [],
   "source": []
  },
  {
   "cell_type": "code",
   "execution_count": null,
   "metadata": {},
   "outputs": [],
   "source": []
  },
  {
   "cell_type": "code",
   "execution_count": null,
   "metadata": {},
   "outputs": [],
   "source": []
  },
  {
   "cell_type": "code",
   "execution_count": 53,
   "metadata": {},
   "outputs": [],
   "source": []
  },
  {
   "cell_type": "code",
   "execution_count": null,
   "metadata": {},
   "outputs": [],
   "source": [
    "#Created temporary CSV files to work with the team\n",
    "#australia.to_csv(\"australia.csv\")\n",
    "#austria.to_csv(\"austria.csv\")\n",
    "#colombia.to_csv(\"colombia.csv\")\n",
    "#costa_rica.to_csv(\"costa_rica.csv\")\n",
    "#croatia.to_csv(\"croatia.csv\")\n",
    "#estonia.to_csv(\"estonia.csv\")\n",
    "#finland.to_csv(\"finland.csv\")\n",
    "#france.to_csv(\"france.csv\")\n",
    "#germany.to_csv(\"germany.csv\")\n",
    "#greece.to_csv(\"greece.csv\")\n",
    "#hungary.to_csv(\"hungary.csv\")\n",
    "#italy.to_csv(\"italy.csv\")\n",
    "#latvia.to_csv(\"latvia.csv\")\n",
    "#lithuania.to_csv(\"lithuania.csv\")\n",
    "#malta.to_csv(\"malta.csv\")\n",
    "#netherlands.to_csv(\"netherlands.csv\")\n",
    "#new_zealand.to_csv(\"new_zealand.csv\")\n",
    "#norway.to_csv(\"norway.csv\")\n",
    "#peru.to_csv(\"peru.csv\")\n",
    "#poland.to_csv(\"poland.csv\")\n",
    "#romania.to_csv(\"romania.csv\")\n",
    "#russia.to_csv(\"russia.csv\")\n",
    "#slovenia.to_csv(\"slovenia.csv\")\n",
    "#spain.to_csv(\"spain.csv\")\n",
    "#switzerland.to_csv(\"switzerland.csv\")\n",
    "#turkey.to_csv(\"turkey.csv\")\n",
    "#united_states.to_csv(\"united_states.csv\")"
   ]
  },
  {
   "cell_type": "code",
   "execution_count": null,
   "metadata": {},
   "outputs": [],
   "source": []
  },
  {
   "cell_type": "code",
   "execution_count": null,
   "metadata": {},
   "outputs": [],
   "source": []
  },
  {
   "cell_type": "code",
   "execution_count": null,
   "metadata": {},
   "outputs": [],
   "source": []
  },
  {
   "cell_type": "code",
   "execution_count": null,
   "metadata": {},
   "outputs": [],
   "source": []
  },
  {
   "cell_type": "code",
   "execution_count": null,
   "metadata": {},
   "outputs": [],
   "source": []
  }
 ],
 "metadata": {
  "kernelspec": {
   "display_name": "Python 3",
   "language": "python",
   "name": "python3"
  },
  "language_info": {
   "codemirror_mode": {
    "name": "ipython",
    "version": 3
   },
   "file_extension": ".py",
   "mimetype": "text/x-python",
   "name": "python",
   "nbconvert_exporter": "python",
   "pygments_lexer": "ipython3",
   "version": "3.8.3"
  }
 },
 "nbformat": 4,
 "nbformat_minor": 4
}
